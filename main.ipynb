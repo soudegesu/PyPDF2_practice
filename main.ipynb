{
 "cells": [
  {
   "cell_type": "code",
   "execution_count": 65,
   "metadata": {},
   "outputs": [
    {
     "name": "stdout",
     "output_type": "stream",
     "text": [
      "Number of page: 3\n",
      "Number of page: 3\n",
      "[]\n",
      "None\n"
     ]
    }
   ],
   "source": [
    "import PyPDF2\n",
    "\n",
    "FILE_PATH = './files/executive_order.pdf'\n",
    "\n",
    "with open(FILE_PATH, mode='rb') as f:\n",
    "    reader = PyPDF2.PdfFileReader(f)\n",
    "    print(f\"Number of page: {reader.getNumPages()}\")\n",
    "    print(f\"Number of page: {reader.numPages}\")\n",
    "    print(reader.outlines)\n",
    "    print(reader.pageMode)        "
   ]
  },
  {
   "cell_type": "code",
   "execution_count": 66,
   "metadata": {},
   "outputs": [
    {
     "ename": "PdfReadError",
     "evalue": "File has not been decrypted",
     "output_type": "error",
     "traceback": [
      "\u001b[0;31m---------------------------------------------------------------------------\u001b[0m",
      "\u001b[0;31mNotImplementedError\u001b[0m                       Traceback (most recent call last)",
      "\u001b[0;32m~/.pyenv/versions/3.6.5/envs/pypdf2/lib/python3.6/site-packages/PyPDF2/pdf.py\u001b[0m in \u001b[0;36mgetNumPages\u001b[0;34m(self)\u001b[0m\n\u001b[1;32m   1146\u001b[0m                 \u001b[0mself\u001b[0m\u001b[0;34m.\u001b[0m\u001b[0m_override_encryption\u001b[0m \u001b[0;34m=\u001b[0m \u001b[0;32mTrue\u001b[0m\u001b[0;34m\u001b[0m\u001b[0m\n\u001b[0;32m-> 1147\u001b[0;31m                 \u001b[0mself\u001b[0m\u001b[0;34m.\u001b[0m\u001b[0mdecrypt\u001b[0m\u001b[0;34m(\u001b[0m\u001b[0;34m''\u001b[0m\u001b[0;34m)\u001b[0m\u001b[0;34m\u001b[0m\u001b[0m\n\u001b[0m\u001b[1;32m   1148\u001b[0m                 \u001b[0;32mreturn\u001b[0m \u001b[0mself\u001b[0m\u001b[0;34m.\u001b[0m\u001b[0mtrailer\u001b[0m\u001b[0;34m[\u001b[0m\u001b[0;34m\"/Root\"\u001b[0m\u001b[0;34m]\u001b[0m\u001b[0;34m[\u001b[0m\u001b[0;34m\"/Pages\"\u001b[0m\u001b[0;34m]\u001b[0m\u001b[0;34m[\u001b[0m\u001b[0;34m\"/Count\"\u001b[0m\u001b[0;34m]\u001b[0m\u001b[0;34m\u001b[0m\u001b[0m\n",
      "\u001b[0;32m~/.pyenv/versions/3.6.5/envs/pypdf2/lib/python3.6/site-packages/PyPDF2/pdf.py\u001b[0m in \u001b[0;36mdecrypt\u001b[0;34m(self, password)\u001b[0m\n\u001b[1;32m   1986\u001b[0m         \u001b[0;32mtry\u001b[0m\u001b[0;34m:\u001b[0m\u001b[0;34m\u001b[0m\u001b[0m\n\u001b[0;32m-> 1987\u001b[0;31m             \u001b[0;32mreturn\u001b[0m \u001b[0mself\u001b[0m\u001b[0;34m.\u001b[0m\u001b[0m_decrypt\u001b[0m\u001b[0;34m(\u001b[0m\u001b[0mpassword\u001b[0m\u001b[0;34m)\u001b[0m\u001b[0;34m\u001b[0m\u001b[0m\n\u001b[0m\u001b[1;32m   1988\u001b[0m         \u001b[0;32mfinally\u001b[0m\u001b[0;34m:\u001b[0m\u001b[0;34m\u001b[0m\u001b[0m\n",
      "\u001b[0;32m~/.pyenv/versions/3.6.5/envs/pypdf2/lib/python3.6/site-packages/PyPDF2/pdf.py\u001b[0m in \u001b[0;36m_decrypt\u001b[0;34m(self, password)\u001b[0m\n\u001b[1;32m   1995\u001b[0m         \u001b[0;32mif\u001b[0m \u001b[0;32mnot\u001b[0m \u001b[0;34m(\u001b[0m\u001b[0mencrypt\u001b[0m\u001b[0;34m[\u001b[0m\u001b[0;34m'/V'\u001b[0m\u001b[0;34m]\u001b[0m \u001b[0;32min\u001b[0m \u001b[0;34m(\u001b[0m\u001b[0;36m1\u001b[0m\u001b[0;34m,\u001b[0m \u001b[0;36m2\u001b[0m\u001b[0;34m)\u001b[0m\u001b[0;34m)\u001b[0m\u001b[0;34m:\u001b[0m\u001b[0;34m\u001b[0m\u001b[0m\n\u001b[0;32m-> 1996\u001b[0;31m             \u001b[0;32mraise\u001b[0m \u001b[0mNotImplementedError\u001b[0m\u001b[0;34m(\u001b[0m\u001b[0;34m\"only algorithm code 1 and 2 are supported\"\u001b[0m\u001b[0;34m)\u001b[0m\u001b[0;34m\u001b[0m\u001b[0m\n\u001b[0m\u001b[1;32m   1997\u001b[0m         \u001b[0muser_password\u001b[0m\u001b[0;34m,\u001b[0m \u001b[0mkey\u001b[0m \u001b[0;34m=\u001b[0m \u001b[0mself\u001b[0m\u001b[0;34m.\u001b[0m\u001b[0m_authenticateUserPassword\u001b[0m\u001b[0;34m(\u001b[0m\u001b[0mpassword\u001b[0m\u001b[0;34m)\u001b[0m\u001b[0;34m\u001b[0m\u001b[0m\n",
      "\u001b[0;31mNotImplementedError\u001b[0m: only algorithm code 1 and 2 are supported",
      "\nDuring handling of the above exception, another exception occurred:\n",
      "\u001b[0;31mPdfReadError\u001b[0m                              Traceback (most recent call last)",
      "\u001b[0;32m<ipython-input-66-3d391303e074>\u001b[0m in \u001b[0;36m<module>\u001b[0;34m\u001b[0m\n\u001b[1;32m      5\u001b[0m \u001b[0;32mwith\u001b[0m \u001b[0mopen\u001b[0m\u001b[0;34m(\u001b[0m\u001b[0mENCRYPTED_FILE_PATH\u001b[0m\u001b[0;34m,\u001b[0m \u001b[0mmode\u001b[0m\u001b[0;34m=\u001b[0m\u001b[0;34m'rb'\u001b[0m\u001b[0;34m)\u001b[0m \u001b[0;32mas\u001b[0m \u001b[0mf\u001b[0m\u001b[0;34m:\u001b[0m\u001b[0;34m\u001b[0m\u001b[0m\n\u001b[1;32m      6\u001b[0m     \u001b[0mreader\u001b[0m \u001b[0;34m=\u001b[0m \u001b[0mPyPDF2\u001b[0m\u001b[0;34m.\u001b[0m\u001b[0mPdfFileReader\u001b[0m\u001b[0;34m(\u001b[0m\u001b[0mf\u001b[0m\u001b[0;34m)\u001b[0m\u001b[0;34m\u001b[0m\u001b[0m\n\u001b[0;32m----> 7\u001b[0;31m     \u001b[0mprint\u001b[0m\u001b[0;34m(\u001b[0m\u001b[0;34mf\"Number of page: {reader.getNumPages()}\"\u001b[0m\u001b[0;34m)\u001b[0m\u001b[0;34m\u001b[0m\u001b[0m\n\u001b[0m",
      "\u001b[0;32m~/.pyenv/versions/3.6.5/envs/pypdf2/lib/python3.6/site-packages/PyPDF2/pdf.py\u001b[0m in \u001b[0;36mgetNumPages\u001b[0;34m(self)\u001b[0m\n\u001b[1;32m   1148\u001b[0m                 \u001b[0;32mreturn\u001b[0m \u001b[0mself\u001b[0m\u001b[0;34m.\u001b[0m\u001b[0mtrailer\u001b[0m\u001b[0;34m[\u001b[0m\u001b[0;34m\"/Root\"\u001b[0m\u001b[0;34m]\u001b[0m\u001b[0;34m[\u001b[0m\u001b[0;34m\"/Pages\"\u001b[0m\u001b[0;34m]\u001b[0m\u001b[0;34m[\u001b[0m\u001b[0;34m\"/Count\"\u001b[0m\u001b[0;34m]\u001b[0m\u001b[0;34m\u001b[0m\u001b[0m\n\u001b[1;32m   1149\u001b[0m             \u001b[0;32mexcept\u001b[0m\u001b[0;34m:\u001b[0m\u001b[0;34m\u001b[0m\u001b[0m\n\u001b[0;32m-> 1150\u001b[0;31m                 \u001b[0;32mraise\u001b[0m \u001b[0mutils\u001b[0m\u001b[0;34m.\u001b[0m\u001b[0mPdfReadError\u001b[0m\u001b[0;34m(\u001b[0m\u001b[0;34m\"File has not been decrypted\"\u001b[0m\u001b[0;34m)\u001b[0m\u001b[0;34m\u001b[0m\u001b[0m\n\u001b[0m\u001b[1;32m   1151\u001b[0m             \u001b[0;32mfinally\u001b[0m\u001b[0;34m:\u001b[0m\u001b[0;34m\u001b[0m\u001b[0m\n\u001b[1;32m   1152\u001b[0m                 \u001b[0mself\u001b[0m\u001b[0;34m.\u001b[0m\u001b[0m_override_encryption\u001b[0m \u001b[0;34m=\u001b[0m \u001b[0;32mFalse\u001b[0m\u001b[0;34m\u001b[0m\u001b[0m\n",
      "\u001b[0;31mPdfReadError\u001b[0m: File has not been decrypted"
     ]
    }
   ],
   "source": [
    "import PyPDF2\n",
    "\n",
    "ENCRYPTED_FILE_PATH = './files/executive_order_encrypted.pdf'\n",
    "\n",
    "# Error has occured\n",
    "with open(ENCRYPTED_FILE_PATH, mode='rb') as f:\n",
    "    reader = PyPDF2.PdfFileReader(f)\n",
    "    print(f\"Number of page: {reader.getNumPages()}\")"
   ]
  },
  {
   "cell_type": "code",
   "execution_count": 26,
   "metadata": {},
   "outputs": [
    {
     "ename": "NotImplementedError",
     "evalue": "only algorithm code 1 and 2 are supported",
     "output_type": "error",
     "traceback": [
      "\u001b[0;31m---------------------------------------------------------------------------\u001b[0m",
      "\u001b[0;31mNotImplementedError\u001b[0m                       Traceback (most recent call last)",
      "\u001b[0;32m<ipython-input-26-952970838872>\u001b[0m in \u001b[0;36m<module>\u001b[0;34m\u001b[0m\n\u001b[1;32m      6\u001b[0m     \u001b[0mreader\u001b[0m \u001b[0;34m=\u001b[0m \u001b[0mPyPDF2\u001b[0m\u001b[0;34m.\u001b[0m\u001b[0mPdfFileReader\u001b[0m\u001b[0;34m(\u001b[0m\u001b[0mf\u001b[0m\u001b[0;34m)\u001b[0m\u001b[0;34m\u001b[0m\u001b[0m\n\u001b[1;32m      7\u001b[0m     \u001b[0;32mif\u001b[0m \u001b[0mreader\u001b[0m\u001b[0;34m.\u001b[0m\u001b[0misEncrypted\u001b[0m\u001b[0;34m:\u001b[0m\u001b[0;34m\u001b[0m\u001b[0m\n\u001b[0;32m----> 8\u001b[0;31m         \u001b[0mret\u001b[0m \u001b[0;34m=\u001b[0m \u001b[0mreader\u001b[0m\u001b[0;34m.\u001b[0m\u001b[0mdecrypt\u001b[0m\u001b[0;34m(\u001b[0m\u001b[0;34m\"\"\u001b[0m\u001b[0;34m)\u001b[0m\u001b[0;34m\u001b[0m\u001b[0m\n\u001b[0m\u001b[1;32m      9\u001b[0m         \u001b[0mprint\u001b[0m\u001b[0;34m(\u001b[0m\u001b[0;34mf\"Number of page: {reader.getNumPages()}\"\u001b[0m\u001b[0;34m)\u001b[0m\u001b[0;34m\u001b[0m\u001b[0m\n\u001b[1;32m     10\u001b[0m         \u001b[0mprint\u001b[0m\u001b[0;34m(\u001b[0m\u001b[0mret\u001b[0m\u001b[0;34m)\u001b[0m\u001b[0;34m\u001b[0m\u001b[0m\n",
      "\u001b[0;32m~/.pyenv/versions/3.6.5/envs/pypdf2/lib/python3.6/site-packages/PyPDF2/pdf.py\u001b[0m in \u001b[0;36mdecrypt\u001b[0;34m(self, password)\u001b[0m\n\u001b[1;32m   1985\u001b[0m         \u001b[0mself\u001b[0m\u001b[0;34m.\u001b[0m\u001b[0m_override_encryption\u001b[0m \u001b[0;34m=\u001b[0m \u001b[0;32mTrue\u001b[0m\u001b[0;34m\u001b[0m\u001b[0m\n\u001b[1;32m   1986\u001b[0m         \u001b[0;32mtry\u001b[0m\u001b[0;34m:\u001b[0m\u001b[0;34m\u001b[0m\u001b[0m\n\u001b[0;32m-> 1987\u001b[0;31m             \u001b[0;32mreturn\u001b[0m \u001b[0mself\u001b[0m\u001b[0;34m.\u001b[0m\u001b[0m_decrypt\u001b[0m\u001b[0;34m(\u001b[0m\u001b[0mpassword\u001b[0m\u001b[0;34m)\u001b[0m\u001b[0;34m\u001b[0m\u001b[0m\n\u001b[0m\u001b[1;32m   1988\u001b[0m         \u001b[0;32mfinally\u001b[0m\u001b[0;34m:\u001b[0m\u001b[0;34m\u001b[0m\u001b[0m\n\u001b[1;32m   1989\u001b[0m             \u001b[0mself\u001b[0m\u001b[0;34m.\u001b[0m\u001b[0m_override_encryption\u001b[0m \u001b[0;34m=\u001b[0m \u001b[0;32mFalse\u001b[0m\u001b[0;34m\u001b[0m\u001b[0m\n",
      "\u001b[0;32m~/.pyenv/versions/3.6.5/envs/pypdf2/lib/python3.6/site-packages/PyPDF2/pdf.py\u001b[0m in \u001b[0;36m_decrypt\u001b[0;34m(self, password)\u001b[0m\n\u001b[1;32m   1994\u001b[0m             \u001b[0;32mraise\u001b[0m \u001b[0mNotImplementedError\u001b[0m\u001b[0;34m(\u001b[0m\u001b[0;34m\"only Standard PDF encryption handler is available\"\u001b[0m\u001b[0;34m)\u001b[0m\u001b[0;34m\u001b[0m\u001b[0m\n\u001b[1;32m   1995\u001b[0m         \u001b[0;32mif\u001b[0m \u001b[0;32mnot\u001b[0m \u001b[0;34m(\u001b[0m\u001b[0mencrypt\u001b[0m\u001b[0;34m[\u001b[0m\u001b[0;34m'/V'\u001b[0m\u001b[0;34m]\u001b[0m \u001b[0;32min\u001b[0m \u001b[0;34m(\u001b[0m\u001b[0;36m1\u001b[0m\u001b[0;34m,\u001b[0m \u001b[0;36m2\u001b[0m\u001b[0;34m)\u001b[0m\u001b[0;34m)\u001b[0m\u001b[0;34m:\u001b[0m\u001b[0;34m\u001b[0m\u001b[0m\n\u001b[0;32m-> 1996\u001b[0;31m             \u001b[0;32mraise\u001b[0m \u001b[0mNotImplementedError\u001b[0m\u001b[0;34m(\u001b[0m\u001b[0;34m\"only algorithm code 1 and 2 are supported\"\u001b[0m\u001b[0;34m)\u001b[0m\u001b[0;34m\u001b[0m\u001b[0m\n\u001b[0m\u001b[1;32m   1997\u001b[0m         \u001b[0muser_password\u001b[0m\u001b[0;34m,\u001b[0m \u001b[0mkey\u001b[0m \u001b[0;34m=\u001b[0m \u001b[0mself\u001b[0m\u001b[0;34m.\u001b[0m\u001b[0m_authenticateUserPassword\u001b[0m\u001b[0;34m(\u001b[0m\u001b[0mpassword\u001b[0m\u001b[0;34m)\u001b[0m\u001b[0;34m\u001b[0m\u001b[0m\n\u001b[1;32m   1998\u001b[0m         \u001b[0;32mif\u001b[0m \u001b[0muser_password\u001b[0m\u001b[0;34m:\u001b[0m\u001b[0;34m\u001b[0m\u001b[0m\n",
      "\u001b[0;31mNotImplementedError\u001b[0m: only algorithm code 1 and 2 are supported"
     ]
    }
   ],
   "source": [
    "import PyPDF2\n",
    "\n",
    "ENCRYPTED_FILE_PATH = './files/executive_order_encrypted.pdf'\n",
    "\n",
    "# Error has occured\n",
    "with open(ENCRYPTED_FILE_PATH, mode='rb') as f:        \n",
    "    reader = PyPDF2.PdfFileReader(f)\n",
    "    if reader.isEncrypted:\n",
    "        ret = reader.decrypt('hoge1234')\n",
    "        print(f\"Number of page: {reader.getNumPages()}\")"
   ]
  },
  {
   "cell_type": "code",
   "execution_count": 49,
   "metadata": {},
   "outputs": [
    {
     "name": "stdout",
     "output_type": "stream",
     "text": [
      "Number of page: 3\n"
     ]
    }
   ],
   "source": [
    "import PyPDF2\n",
    "import os\n",
    "\n",
    "ENCRYPTED_FILE_PATH = './files/executive_order_encrypted.pdf'\n",
    "FILE_OUT_PATH = './files/executive_order_out.pdf'\n",
    "\n",
    "PASSWORD='hoge1234'\n",
    "\n",
    "with open(ENCRYPTED_FILE_PATH, mode='rb') as f:        \n",
    "    reader = PyPDF2.PdfFileReader(f)\n",
    "    if reader.isEncrypted:\n",
    "        try:\n",
    "            reader.decrypt(PASSWORD)\n",
    "        except NotImplementedError:\n",
    "            command=f\"qpdf --password='{PASSWORD}' --decrypt {ENCRYPTED_FILE_PATH} {FILE_OUT_PATH};\"\n",
    "            os.system(command)            \n",
    "            with open(FILE_OUT_PATH, mode='rb') as fp:\n",
    "                reader = PyPDF2.PdfFileReader(fp)\n",
    "                print(f\"Number of page: {reader.getNumPages()}\")"
   ]
  },
  {
   "cell_type": "code",
   "execution_count": 3,
   "metadata": {},
   "outputs": [
    {
     "name": "stdout",
     "output_type": "stream",
     "text": [
      "Presidential Documents55243 Federal Register Vol. 83, No. 213 Friday, November 2, 2018 Title 3Š The President Executive Order 13850 of November 1, 2018 Blocking Property of Additional Persons Contributing to the Situation in Venezuela By the authority vested in me as President by the Constitution and the laws of the United States of America, including the International Emergency \n",
      "Economic Powers Act (50 U.S.C. 1701 et seq.) (IEEPA), the National Emer-\n",
      "gencies Act (50 U.S.C. 1601 et seq.), section 212(f) of the Immigration and \n",
      "Nationality Act of 1952 (8 U.S.C. 1182(f)) (INA), the Venezuela Defense \n",
      "of Human Rights and Civil Society Act of 2014 (Public Law 113Œ278), \n",
      "as amended (the Venezuelan Defense of Human Rights Act), and section \n",
      "301 of title 3, United States Code, I, DONALD J. TRUMP, President of the United States of America, in order to take additional steps with respect to the national emergency declared \n",
      "in Executive Order 13692 of March 8, 2015, and relied upon for additional \n",
      "steps taken in Executive Order 13808 of August 24, 2017, Executive Order \n",
      "13827 of March 19, 2018, and Executive Order 13835 of May 21, 2018, \n",
      "particularly in light of actions by the Maduro regime and associated persons \n",
      "to plunder Venezuela™s wealth for their own corrupt purposes, degrade Ven-\n",
      "ezuela™s infrastructure and natural environment through economic mis-\n",
      "management and confiscatory mining and industrial practices, and catalyze \n",
      "a regional migration crisis by neglecting the basic needs of the Venezuelan \n",
      "people, hereby order as follows: Section 1. (a) All property and interests in property that are in the United States, that hereafter come within the United States, or that are or hereafter \n",
      "come within the possession or control of any United States person of the \n",
      "following persons are blocked and may not be transferred, paid, exported, \n",
      "withdrawn, or otherwise dealt in: any person determined by the Secretary \n",
      "of the Treasury, in consultation with the Secretary of State: (i) to operate in the gold sector of the Venezuelan economy or in any \n",
      "other sector of the Venezuelan economy as may be determined by the \n",
      "Secretary of the Treasury, in consultation with the Secretary of State; (ii) to be responsible for or complicit in, or to have directly or indirectly engaged in, any transaction or series of transactions involving deceptive \n",
      "practices or corruption and the Government of Venezuela or projects or \n",
      "programs administered by the Government of Venezuela, or to be an \n",
      "immediate adult family member of such a person; (iii) to have materially assisted, sponsored, or provided financial, material, or technological support for, or goods or services to or in support of, \n",
      "any activity or transaction described in subsection (a)(ii) of this section, \n",
      "or any person whose property and interests in property are blocked pursu-\n",
      "ant to this order; or (iv) to be owned or controlled by, or to have acted or purported to act for or on behalf of, directly or indirectly, any person whose property \n",
      "and interests in property are blocked pursuant to this order. (b) The prohibitions in subsection (a) of this section apply except to the extent provided by statutes, or in regulations, orders, directives, or licenses that may be issued pursuant to this order, and notwithstanding \n",
      "any contract entered into or any license or permit granted prior to the \n",
      "date of this order. VerDate Sep<11>2014 18:13 Nov 01, 2018Jkt 247001PO 00000Frm 00003Fmt 4705Sfmt 4790E:\\FR\\FM\\02NOE0.SGM02NOE0\n",
      "\n",
      "55244 Federal Register/Vol. 83, No. 213/Friday, November 2, 2018/Presidential Documents \n",
      "Sec. 2. The unrestricted immigrant and nonimmigrant entry into the United States of aliens determined to meet one or more of the criteria in subsection \n",
      "1(a) of this order would be detrimental to the interests of the United States, \n",
      "and the entry of such persons into the United States, as immigrants or \n",
      "nonimmigrants, is therefore hereby suspended. Such persons shall be treated \n",
      "as persons covered by section 1 of Proclamation 8693 of July 24, 2011 \n",
      "(Suspension of Entry of Aliens Subject to United Nations Security Council \n",
      "Travel Bans and International Emergency Economic Powers Act Sanctions). Sec. 3. I hereby determine that the making of donations of the type of articles specified in section 203(b)(2) of IEEPA (50 U.S.C. 1702(b)(2)) by, \n",
      "to, or for the benefit of any person whose property and interests in property \n",
      "are blocked pursuant to section 1 of this order would seriously impair \n",
      "my ability to deal with the national emergency declared in Executive Order \n",
      "13692, and I hereby prohibit such donations as provided by section 1 of \n",
      "this order. Sec. 4. The prohibitions in section 1 of this order include: (a) the making of any contribution or provision of funds, goods, or services by, to, or for the benefit of any person whose property and interests in property are blocked pursuant to this order; and (b) the receipt of any contribution or provision of funds, goods, or services from any such person. Sec. 5. (a) Any transaction that evades or avoids, has the purpose of evading or avoiding, causes a violation of, or attempts to violate any of the prohibi-\n",
      "tions set forth in this order is prohibited. (b) Any conspiracy formed to violate any of the prohibitions set forth in this order is prohibited. Sec. 6. For the purposes of this order: (a) the term ‚‚person™™ means an individual or entity; (b) the term ‚‚entity™™ means a partnership, association, trust, joint venture, corporation, group, subgroup, or other organization; (c) the term ‚‚United States person™™ means any United States citizen, lawful permanent resident, entity organized under the laws of the United States or any jurisdiction within the United States (including foreign \n",
      "branches), or any person in the United States; (d) the term ‚‚Government of Venezuela™™ means the Government of Ven-ezuela, any political subdivision, agency, or instrumentality thereof, includ-\n",
      "ing the Central Bank of Venezuela, and any person owned or controlled \n",
      "by, or acting for or on behalf of, the Government of Venezuela. Sec. 7. For those persons whose property and interests in property are blocked pursuant to this order who might have a constitutional presence \n",
      "in the United States, I find that because of the ability to transfer funds \n",
      "or other assets instantaneously, prior notice to such persons or to the Govern-\n",
      "ment of Venezuela of measures to be taken pursuant to this order would \n",
      "render those measures ineffectual. I therefore determine that for these meas-\n",
      "ures to be effective in addressing the national emergency declared in Execu-\n",
      "tive Order 13692, there need be no prior notice of a listing or determination \n",
      "made pursuant to section 1 of this order. Sec. 8. The Secretary of the Treasury, in consultation with the Secretary of State, is hereby authorized to take such actions, including promulgating \n",
      "rules and regulations, and to employ all powers granted to the President \n",
      "by IEEPA as may be necessary to implement this order. The Secretary \n",
      "of the Treasury may, consistent with applicable law, redelegate any of these \n",
      "functions within the Department of the Treasury. All agencies of the United \n",
      "States Government shall take all appropriate measures within their authority \n",
      "to carry out the provisions of this order. Sec. 9. The Secretary of State is hereby authorized to take such actions, including the promulgation of rules and regulations, and to employ all \n",
      "powers granted to the President by IEEPA, the INA, and section 5 of the VerDate Sep<11>2014 18:13 Nov 01, 2018Jkt 247001PO 00000Frm 00004Fmt 4705Sfmt 4790E:\\FR\\FM\\02NOE0.SGM02NOE0\n",
      "\n",
      "55245 Federal Register/Vol. 83, No. 213/Friday, November 2, 2018/Presidential Documents \n",
      "Venezuela Defense of Human Rights Act, including the authorities set forth in sections 5(b)(1)(B), 5(c), and 5(d) of that Act, as may be necessary to \n",
      "carry out section 2 of this order and the relevant provisions of section \n",
      "5 of that Act. The Secretary of State may, consistent with applicable law, \n",
      "redelegate any of these functions within the Department of State. Sec. 10. (a) Nothing in this order shall be construed to impair or otherwise affect: (i) the authority granted by law to an executive department or agency, \n",
      "or the head thereof; or (ii) the functions of the Director of the Office of Management and Budget relating to budgetary, administrative, or legislative proposals. (b) This order shall be implemented consistent with applicable law and subject to the availability of appropriations. (c) This order is not intended to, and does not, create any right or benefit, substantive or procedural, enforceable at law or in equity by any party against the United States, its departments, agencies, or entities, its officers, \n",
      "employees, or agents, or any other person. THE WHITE HOUSE, November 1, 2018. [FR Doc. 2018Œ24254 Filed 11Œ1Œ18; 2:00 pm] Billing code 3295ŒF9ŒP VerDate Sep<11>2014 18:13 Nov 01, 2018Jkt 247001PO 00000Frm 00005Fmt 4705Sfmt 4790E:\\FR\\FM\\02NOE0.SGM02NOE0\n",
      "Trump.EPS</GPH>\n"
     ]
    },
    {
     "name": "stderr",
     "output_type": "stream",
     "text": [
      "PdfReadWarning: Xref table not zero-indexed. ID numbers for objects will be corrected. [pdf.py:1736]\n"
     ]
    }
   ],
   "source": [
    "with open(FILE_PATH, mode='rb') as f:\n",
    "    reader = PyPDF2.PdfFileReader(f)\n",
    "    for page in reader.pages:\n",
    "        print(page.extractText())\n"
   ]
  },
  {
   "cell_type": "code",
   "execution_count": 63,
   "metadata": {},
   "outputs": [],
   "source": [
    "import PyPDF2\n",
    "\n",
    "FILE_PATH = './files/executive_order.pdf'\n",
    "\n",
    "with open(FILE_PATH, mode='rb') as f:\n",
    "    reader = PyPDF2.PdfFileReader(f)\n",
    "    for page in reader.pages:\n",
    "        pass"
   ]
  },
  {
   "cell_type": "code",
   "execution_count": 64,
   "metadata": {},
   "outputs": [],
   "source": [
    "import PyPDF2\n",
    "\n",
    "FILE_PATH = './files/executive_order.pdf'\n",
    "OUTPUT_FILE_PATH = './files/executive_order_extract.txt'\n",
    "with open(FILE_PATH, mode='rb') as f, open(OUTPUT_FILE_PATH, mode='w') as wf:\n",
    "    reader = PyPDF2.PdfFileReader(f)\n",
    "    page = reader.getPage(0)\n",
    "    wf.write(page.extractText())"
   ]
  },
  {
   "cell_type": "code",
   "execution_count": 7,
   "metadata": {},
   "outputs": [
    {
     "name": "stdout",
     "output_type": "stream",
     "text": [
      "<class 'PyPDF2.generic.RectangleObject'>\n",
      "<class 'PyPDF2.generic.RectangleObject'>\n",
      "<class 'PyPDF2.generic.RectangleObject'>\n"
     ]
    }
   ],
   "source": [
    "with open(FILE_PATH, mode='rb') as f:\n",
    "    reader = PyPDF2.PdfFileReader(f)\n",
    "    for page in reader.pages:\n",
    "        obj = page.mediaBox\n",
    "        print(type(obj))"
   ]
  }
 ],
 "metadata": {
  "kernelspec": {
   "display_name": "Python 3",
   "language": "python",
   "name": "python3"
  },
  "language_info": {
   "codemirror_mode": {
    "name": "ipython",
    "version": 3
   },
   "file_extension": ".py",
   "mimetype": "text/x-python",
   "name": "python",
   "nbconvert_exporter": "python",
   "pygments_lexer": "ipython3",
   "version": "3.6.5"
  }
 },
 "nbformat": 4,
 "nbformat_minor": 2
}
